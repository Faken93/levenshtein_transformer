{
 "cells": [
  {
   "cell_type": "code",
   "execution_count": 42,
   "metadata": {
    "collapsed": true
   },
   "outputs": [],
   "source": [
    "import numpy as np\n",
    "from pytorch_transformers.tokenization_distilbert import DistilBertTokenizer\n",
    "from pytorch_transformers.modeling_distilbert import DistilBertModel\n",
    "import torch\n",
    "import torch.nn\n"
   ]
  },
  {
   "cell_type": "code",
   "execution_count": null,
   "metadata": {
    "collapsed": true
   },
   "outputs": [],
   "source": [
    "tokenizer = DistilBertTokenizer.from_pretrained('distilbert-base-uncased')\n",
    "embedder = DistilBertModel.from_pretrained('distilbert-base-uncased')"
   ]
  },
  {
   "cell_type": "code",
   "execution_count": 268,
   "metadata": {
    "collapsed": true
   },
   "outputs": [],
   "source": [
    "noop = \"N\"\n",
    "sub = \"S\"\n",
    "insert = \"I\"\n",
    "delete = \"D\""
   ]
  },
  {
   "cell_type": "code",
   "execution_count": 294,
   "metadata": {
    "collapsed": true
   },
   "outputs": [],
   "source": [
    "def ld(s1, s2, subcost=1, delcost=1, inscost=1):\n",
    "    operations = [[\"\" for j in range(len(s2) + 1)] for i in range(len(s1) + 1)]\n",
    "    matrix = np.zeros((len(s1)+1, len(s2)+1))\n",
    "    for j in range(len(s2) + 1):\n",
    "        matrix[0,j] = j\n",
    "        operations[0][j] = insert\n",
    "        for i in range(len(s1) + 1):\n",
    "            matrix[i,0] = i\n",
    "            operations[i][0] = insert\n",
    "            if i > 0 and j > 0:\n",
    "                subCost = matrix[i-1, j-1] if s1[i-1] == s2[j-1] else matrix[i-1, j-1] + subcost\n",
    "                insertCost = matrix[i, j-1] + inscost\n",
    "                deleteCost = matrix[i-1, j] + delcost\n",
    "                #print(\"subCost %d\" % subCost)\n",
    "                minCost = min(subCost, insertCost, deleteCost)\n",
    "                #print(\"minbCost %d\" % minCost)\n",
    "                matrix[i,j] = minCost\n",
    "                if minCost == 0:\n",
    "                    operations[i][j] = noop\n",
    "                elif minCost == deleteCost:\n",
    "                    operations[i][j] = delete\n",
    "                elif minCost == insertCost:\n",
    "                    operations[i][j] = insert\n",
    "                elif minCost == subCost:\n",
    "                    operations[i][j] = sub\n",
    "    i = len(s1)\n",
    "    j = len(s2)\n",
    "    history = []\n",
    "    while j > 0 or i > 0:        \n",
    "        if delcost != np.inf:\n",
    "            if j == 0:\n",
    "                history.append(delete)\n",
    "                i -= 1\n",
    "                continue\n",
    "            if matrix[i-1][j-1] < matrix[i-1,j]:\n",
    "                history.append(noop)\n",
    "                i -= 1\n",
    "                j -= 1\n",
    "            else:\n",
    "                history.append(delete)\n",
    "                i -= 1\n",
    "        elif inscost != np.inf:\n",
    "            if j == 0:\n",
    "                history.append(noop)\n",
    "                i -= 1\n",
    "                continue\n",
    "            if matrix[i-1][j-1] < matrix[i,j-1]:\n",
    "                history.append(noop)\n",
    "                i -= 1\n",
    "                j -= 1\n",
    "            else:\n",
    "                history.append((insert,s2[j-1]))\n",
    "                #history.append(insert)\n",
    "                j -= 1\n",
    "    history.reverse()\n",
    "    return matrix, matrix[len(s1),len(s2)], history\n",
    "    \n"
   ]
  },
  {
   "cell_type": "code",
   "execution_count": 295,
   "metadata": {},
   "outputs": [
    {
     "data": {
      "text/plain": [
       "(array([[0., 1., 2., 3., 4., 5., 6.],\n",
       "        [1., 2., 3., 4., 5., 4., 5.],\n",
       "        [2., 1., 2., 3., 4., 5., 6.],\n",
       "        [3., 4., 1., 2., 3., 4., 5.],\n",
       "        [4., 5., 4., 1., 2., 3., 4.]]),\n",
       " 4.0,\n",
       " ['N', 'N', 'N', 'N', ('I', 'b'), ('I', 'a'), ('I', 'r')])"
      ]
     },
     "execution_count": 295,
     "metadata": {},
     "output_type": "execute_result"
    }
   ],
   "source": [
    "ld(\"afoo\",\"foobar\", subcost=np.inf, delcost=np.inf)"
   ]
  },
  {
   "cell_type": "code",
   "execution_count": 248,
   "metadata": {},
   "outputs": [
    {
     "data": {
      "text/plain": [
       "(array([[ 0.,  1.,  2.,  3.,  4.,  5.],\n",
       "        [ 1.,  2.,  3.,  4.,  5.,  6.],\n",
       "        [ 2.,  1.,  4.,  5.,  6.,  7.],\n",
       "        [ 3.,  2.,  5.,  6.,  7.,  8.],\n",
       "        [ 4.,  3.,  6.,  7.,  8.,  9.],\n",
       "        [ 5.,  4.,  3.,  8.,  9., 10.],\n",
       "        [ 6.,  5.,  4.,  9., 10., 11.],\n",
       "        [ 7.,  6.,  5., 10., 11., 12.],\n",
       "        [ 8.,  7.,  6.,  5., 10., 13.],\n",
       "        [ 9.,  8.,  7.,  6.,  5., 14.],\n",
       "        [10.,  9.,  8.,  7.,  6.,  5.],\n",
       "        [11., 10.,  9.,  8.,  7.,  6.],\n",
       "        [12., 11., 10.,  9.,  8.,  7.],\n",
       "        [13., 12., 11., 10.,  9.,  8.],\n",
       "        [14., 13., 12., 11., 10.,  9.]]),\n",
       " 9.0,\n",
       " ['D', 'N', 'D', 'D', 'N', 'D', 'D', 'N', 'N', 'N', 'D', 'D', 'D', 'D'])"
      ]
     },
     "execution_count": 248,
     "metadata": {},
     "output_type": "execute_result"
    }
   ],
   "source": [
    "ld(\"dfudedellodude\",\"fello\")"
   ]
  },
  {
   "cell_type": "code",
   "execution_count": 199,
   "metadata": {
    "scrolled": true
   },
   "outputs": [
    {
     "name": "stdout",
     "output_type": "stream",
     "text": [
      "[[  1.   1.   2.   3.   4.   5.   6.   7.]\n",
      " [999.   2.   2.   2.   3.   4.   5.   6.]\n",
      " [999. 999.   3.   3.   2.   3.   4.   5.]]\n",
      "2, 7\n",
      "2, 6\n",
      "2, 5\n",
      "2, 4\n",
      "1, 3\n",
      "0, 2\n",
      "0, 1\n",
      "0, 0\n"
     ]
    },
    {
     "data": {
      "text/plain": [
       "['D', 'N', 'D', 'N', 'N', 'D', 'D', 'D']"
      ]
     },
     "execution_count": 199,
     "metadata": {},
     "output_type": "execute_result"
    }
   ],
   "source": [
    "import numpy as np\n",
    "\n",
    "\n",
    "def ld(s1, s2):\n",
    "    operations = [[\"X\" for j in range(len(s2))] for i in range(len(s1))]\n",
    "    matrix = np.zeros((len(s1), len(s2)))\n",
    "    matrix[0,0] = 0 if s2[0] == s1[0] else 1\n",
    "    for j in range(len(s2)):\n",
    "        for i in range(len(s1)):\n",
    "            if j < i:\n",
    "                matrix[i, j] = 999\n",
    "                continue\n",
    "                \n",
    "            if (j == 0 and i == 0):\n",
    "                continue\n",
    "            #if :\n",
    "            #    matrix[i, j] = matrix[i-1, j-1]\n",
    "                #operations[0][j] = noop if s2[j] == s1[0] else delete\n",
    "            if s1[i] == s2[j]:\n",
    "                matrix[i, j] = matrix[max(0, i-1), max(0,j-1)]\n",
    "                #operations[i][j] = noop\n",
    "            else:\n",
    "                matrix[i, j] = min(matrix[i, max(0, j-1)],matrix[max(i-1,0),max(0,j-1)]) + 1\n",
    "                #operations[i][j] = delete\n",
    "    print(matrix)\n",
    "    #for o in operations:\n",
    "    #    print(o)\n",
    "    history = []\n",
    "    i = len(s1) - 1\n",
    "    j = len(s2) - 1\n",
    "    while True:       \n",
    "        \n",
    "        i = max(i, 0)\n",
    "        j = max(j,0)\n",
    "        print(\"%d, %d\" % (i,j))\n",
    "        \n",
    "        if i == 0:\n",
    "            if j == 0:\n",
    "                if matrix[i,j] == 0:\n",
    "                    history.append(noop)    \n",
    "                else:\n",
    "                    history.append(delete)\n",
    "                break\n",
    "            if matrix[i,j-1] == matrix[i,j]:\n",
    "                history.append(noop)\n",
    "            else:\n",
    "                history.append(delete)\n",
    "            j -= 1 \n",
    "            \n",
    "        else:  \n",
    "            if matrix[i-1,j-1] <= matrix[i,j-1]:\n",
    "                i -= 1\n",
    "                j -= 1\n",
    "                history.append(noop)\n",
    "            else:\n",
    "                if matrix[i,j-1] == matrix[i,j]:\n",
    "                    history.append(noop)\n",
    "                else:\n",
    "                    history.append(delete)\n",
    "                j -= 1\n",
    "        \n",
    "    #print(np.reshape(np.array(history))\n",
    "    history.reverse()\n",
    "    return history\n",
    "    #return matrix[len(s1)-1,len(s2)-1], history\n",
    "ld(\"cat\",\"scratter\")\n"
   ]
  },
  {
   "cell_type": "code",
   "execution_count": 200,
   "metadata": {},
   "outputs": [
    {
     "name": "stdout",
     "output_type": "stream",
     "text": [
      "[[  1.   1.   2.   3.   4.   5.   6.   7.   8.   9.  10.  11.  12.  13.]\n",
      " [999.   2.   2.   3.   3.   4.   5.   6.   7.   8.   9.  10.  11.  12.]\n",
      " [999. 999.   3.   3.   4.   4.   5.   5.   6.   7.   8.   9.  10.  11.]\n",
      " [999. 999. 999.   4.   4.   5.   5.   5.   5.   6.   7.   8.   9.  10.]\n",
      " [999. 999. 999. 999.   5.   5.   6.   6.   6.   5.   6.   7.   8.   9.]]\n",
      "4, 13\n",
      "4, 12\n",
      "4, 11\n",
      "4, 10\n",
      "4, 9\n",
      "3, 8\n",
      "2, 7\n",
      "1, 6\n",
      "1, 5\n",
      "1, 4\n",
      "0, 3\n",
      "0, 2\n",
      "0, 1\n",
      "0, 0\n"
     ]
    },
    {
     "data": {
      "text/plain": [
       "['D', 'N', 'D', 'D', 'N', 'D', 'D', 'N', 'N', 'N', 'D', 'D', 'D', 'D']"
      ]
     },
     "execution_count": 200,
     "metadata": {},
     "output_type": "execute_result"
    }
   ],
   "source": [
    "ld(\"fello\",\"dfudedellodude\")"
   ]
  },
  {
   "cell_type": "code",
   "execution_count": 304,
   "metadata": {},
   "outputs": [],
   "source": [
    "from torch import nn\n",
    "\n",
    "class PlaceholderClassifer(nn.Module):\n",
    "    def __init__(self, hsz, max_placeholders=10):\n",
    "        self.dense = nn.Linear(\n",
    "            hsz, max_placeholders,\n",
    "        )\n",
    "        self.activation = nn.ReLU()\n",
    "            \n",
    "class TokenClassifer(nn.Module):    \n",
    "    def __init__(self, hsz, vsz):\n",
    "        self.dense = nn.Linear(\n",
    "            hsz, vsz\n",
    "        )\n",
    "        self.activation = nn.ReLU()\n",
    "        \n",
    "class DeletionClassifer(nn.Module):    \n",
    "    def __init__(self, hsz):\n",
    "        self.dense = nn.Linear(\n",
    "            hsz, 2,\n",
    "        )\n",
    "        self.activation = nn.ReLU()\n",
    "        \n",
    "class Model():\n",
    "    def __init__(self, alpha=0.5, beta=0.5, lr=0.0001):\n",
    "        self.p_classifier = PlaceholderClassifier()\n",
    "        self.t_classifier = TokenClassifier()\n",
    "        self.d_classifier = DeletionClassifier()        \n",
    "        self.alpha = 0.5\n",
    "        self.beta = 0.5\n",
    "        self.p_loss = nn.NLLLoss()\n",
    "        self.t_loss = nn.NLLLoss()\n",
    "        self.d_loss = nn.NLLLoss()\n",
    "        \n",
    "        self.optims = {\n",
    "            'p_classifier': optim.SGD(self.p_classifier.parameters(), lr=lr),\n",
    "            't_classifier': optim.SGD(self.t_classifier.parameters(), lr=lr),\n",
    "            'd_classifier': optim.SGD(self.d_classifier.parameters(), lr=lr),\n",
    "        }\n",
    "\n",
    "        \n",
    "    def delete_random(y):\n",
    "        for i in range(3, len(y) - 4): # don't delete <s> or </s>\n",
    "            if random.random() > 0.05:\n",
    "                y[i] = None\n",
    "        return [yi for yi in y if yi is not None]\n",
    "\n",
    "    def delete_minimal(y, y_ground):\n",
    "        if len(y_ground) > len(y): # if y_ground is longer than y, there is no sequence of deletes that will give a smaller LD\n",
    "            return y\n",
    "        y = y[3:len(y) - 4]\n",
    "        y_ground = y_ground[3:len(y_ground) - 4] \n",
    "        matrix, dist, edits = ld(y,y_ground, subcost=np.inf, inscost=np.inf)\n",
    "        deleted = 0\n",
    "        for i in range(len(edits)):\n",
    "            if edits[i] == \"D\":\n",
    "                y = y[:i-deleted] + y[i-deleted+1:]\n",
    "                deleted += 1\n",
    "        return \"<s>\" + y + \"</s>\"\n",
    "\n",
    "    def insert_minimal(y, y_ground):\n",
    "        if len(y) > len(y_ground): # if y is larger than y_ground, no sequence of inserts that will give a smaller LD\n",
    "            return y\n",
    "        y = y[3:len(y) - 4]\n",
    "        y_ground = y_ground[3:len(y_ground) - 4] \n",
    "        matrix, dist, edits = ld(y,y_ground, subcost=np.inf, delcost=np.inf)\n",
    "        inserted = 0\n",
    "        i = 0\n",
    "        p = y\n",
    "        for edit in edits:\n",
    "            if edit[0] == \"I\":\n",
    "                y = y[:i+inserted] + edit[1] + y[i+inserted+1:]\n",
    "                p = p[:i+inserted] + \"<PLH>\" + y[i+inserted+1:]\n",
    "                inserted += 1\n",
    "            i += 1\n",
    "        return \"<s>\" + y + \"</s>\", \"<s>\" + p + \"</s>\"\n",
    "\n",
    "    def sample(alpha, beta):\n",
    "        u = random.random()\n",
    "        v = random.random()\n",
    "        y0, y_ground = sample_from_dataset() # produce a pair of strings (i.e. untokenized)\n",
    "        if len(y0) > 2: # \"<s></s>\" is an empty sequence, so no deletion is possible\n",
    "            if u > alpha:\n",
    "                y_ins = delete_random(y0)\n",
    "            else:\n",
    "                y_ins = delete_minimal(y_ground)       \n",
    "\n",
    "            y_ins_prime = insert_minimal(y_ins, y_ground)\n",
    "\n",
    "            if v > alpha:\n",
    "                y_del = y0\n",
    "            else:\n",
    "                y_del = # sampletokesn?\n",
    "        \n",
    "        return y_del, y_ins, y_ins_prime\n",
    "    \n",
    "    def zero_grad(self):\n",
    "         \"\"\"Zero out optimizer.\"\"\"\n",
    "        for optimizer in self.optims.values():\n",
    "            optimizer.zero_grad()\n",
    "\n",
    "    def update_params(self):\n",
    "    \"\"\"Do one optimization step.\"\"\"\n",
    "        for optimizer in self.optims.values():\n",
    "            optimizer.step()\n",
    "   \n",
    "    def train_step(self):\n",
    "        y_del, y_ins, y_ins_prime = self.sample(self.alpha, self.beta)\n",
    "        y_ins = self.tokenizer.tokenize(y_ins)\n",
    "        y_ins_prime = self.tokenizer.tokenize(y_ins_prime)\n",
    "        y_del = self.tokenizer.tokenize(y_del)\n",
    "\n",
    "        preds_placeholders = self.p_classifier(y_ins)\n",
    "        preds_inserts = self.t_classifier(y_ins_prime)\n",
    "        preds_deletes = self.d_classifier(y_del)\n",
    "\n",
    "        loss = 0\n",
    "        self.zero_grad()\n",
    "        self.encoder.train()\n",
    "        \n",
    "        loss = self.d_loss(preds_deletes, y_del)\n",
    "        loss += self.t_loss(preds_inserts, y_ins_prime)\n",
    "        loss += self.p_loss(preds_placeholders, y_ins)\n",
    "        loss.backward()\n",
    "        self.update_params()"
   ]
  },
  {
   "cell_type": "code",
   "execution_count": 305,
   "metadata": {},
   "outputs": [
    {
     "name": "stdout",
     "output_type": "stream",
     "text": [
      "['N', 'N', 'N', 'N', 'N', ('I', 'd'), ('I', 'u'), ('I', 'd'), ('I', 'e')]\n"
     ]
    },
    {
     "data": {
      "text/plain": [
       "'<s>fellodude</s>'"
      ]
     },
     "execution_count": 305,
     "metadata": {},
     "output_type": "execute_result"
    }
   ],
   "source": [
    "insert_minimal(\"<s>fello</s>\",\"<s>ellodude</s>\")"
   ]
  },
  {
   "cell_type": "code",
   "execution_count": 264,
   "metadata": {},
   "outputs": [
    {
     "data": {
      "text/plain": [
       "(3.0, ['N', 'N', 'N', 'D', 'N', 'N', 'N'])"
      ]
     },
     "execution_count": 264,
     "metadata": {},
     "output_type": "execute_result"
    }
   ],
   "source": []
  }
 ],
 "metadata": {
  "kernelspec": {
   "display_name": "Python 3",
   "language": "python",
   "name": "python3"
  },
  "language_info": {
   "codemirror_mode": {
    "name": "ipython",
    "version": 3
   },
   "file_extension": ".py",
   "mimetype": "text/x-python",
   "name": "python",
   "nbconvert_exporter": "python",
   "pygments_lexer": "ipython3",
   "version": "3.6.8"
  }
 },
 "nbformat": 4,
 "nbformat_minor": 2
}
